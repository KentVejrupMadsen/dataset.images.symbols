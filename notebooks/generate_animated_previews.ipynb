{
 "cells": [
  {
   "cell_type": "markdown",
   "id": "ea6629d8",
   "metadata": {},
   "source": [
    "# Generate Animated previews"
   ]
  },
  {
   "cell_type": "code",
   "execution_count": 19,
   "id": "59e5064e",
   "metadata": {},
   "outputs": [
    {
     "name": "stdout",
     "output_type": "stream",
     "text": [
      "Requirement already satisfied: pillow in ./.environment/lib/python3.11/site-packages (10.0.0)\n"
     ]
    }
   ],
   "source": [
    "!pip install pillow"
   ]
  },
  {
   "cell_type": "code",
   "execution_count": 42,
   "id": "19e920d1",
   "metadata": {},
   "outputs": [],
   "source": [
    "from os import listdir\n",
    "from os.path import join\n",
    "\n",
    "from PIL import Image\n",
    "from random import SystemRandom\n",
    "from IPython.display import display"
   ]
  },
  {
   "cell_type": "code",
   "execution_count": 43,
   "metadata": {},
   "outputs": [],
   "source": [
    "sentence: str = 'Image Dataset of Symbols'\n",
    "\n",
    "list_of_chars: list = list()\n",
    "\n",
    "for character in sentence:\n",
    "    if not (character == ' '):\n",
    "        list_of_chars.append(\n",
    "            str(\n",
    "                character\n",
    "            ).upper()\n",
    "        )\n",
    "\n",
    "list_of_chars: list = list(\n",
    "    dict.fromkeys(\n",
    "        list_of_chars\n",
    "    )\n",
    ")\n",
    "\n",
    "location_of_dataset: str = '/mnt/c/Workspace/DataSets/ids/dataset'\n",
    "categories: list = listdir(location_of_dataset)"
   ]
  },
  {
   "cell_type": "code",
   "execution_count": 47,
   "id": "e2c4692e",
   "metadata": {},
   "outputs": [],
   "source": [
    "size: tuple = (64, 64)"
   ]
  },
  {
   "cell_type": "code",
   "execution_count": 48,
   "id": "060be0bf",
   "metadata": {},
   "outputs": [],
   "source": [
    "def retrieve_random_images_from_set(\n",
    "    category: str,\n",
    "    number_of_images: int\n",
    ") -> list:\n",
    "    global location_of_dataset, size\n",
    "    randomizer = SystemRandom()\n",
    "    full_path: str = join(\n",
    "        location_of_dataset, \n",
    "        category\n",
    "    )\n",
    "\n",
    "    r_values: list = list()\n",
    "\n",
    "    list_of_images: list = listdir(full_path)\n",
    "    last_index: int = len(list_of_images) - 1\n",
    "\n",
    "    for i in range(number_of_images):\n",
    "        selected = randomizer.randint(0, last_index)\n",
    "        file_name = list_of_images[selected]\n",
    "        path_to_file: str = join(full_path, file_name)\n",
    "\n",
    "        image = Image.open(\n",
    "            path_to_file\n",
    "        )\n",
    "\n",
    "        image = image.resize(size=size)\n",
    "\n",
    "        r_values.append(\n",
    "            image   \n",
    "        )\n",
    "    \n",
    "    return r_values\n",
    "\n"
   ]
  },
  {
   "cell_type": "code",
   "execution_count": 49,
   "id": "fc101b60",
   "metadata": {},
   "outputs": [],
   "source": [
    "for character in list_of_chars:\n",
    "    images = retrieve_random_images_from_set(\n",
    "        character, \n",
    "        320\n",
    "    )\n",
    "\n",
    "    file_name: str = character + '.gif'\n",
    "\n",
    "    output_location: str = join(\n",
    "        '/tmp', \n",
    "        file_name\n",
    "    )\n",
    "\n",
    "    first_image: Image.Image = images[0]\n",
    "    first_image.save(\n",
    "        output_location,\n",
    "        save_all=True,\n",
    "        append_images=images[1:],\n",
    "        duration=10,\n",
    "        loop=0,\n",
    "        optimize=True\n",
    "    )"
   ]
  }
 ],
 "metadata": {
  "kernelspec": {
   "display_name": "Python 3 (ipykernel)",
   "language": "python",
   "name": "python3"
  },
  "language_info": {
   "codemirror_mode": {
    "name": "ipython",
    "version": 3
   },
   "file_extension": ".py",
   "mimetype": "text/x-python",
   "name": "python",
   "nbconvert_exporter": "python",
   "pygments_lexer": "ipython3",
   "version": "3.11.0rc1"
  }
 },
 "nbformat": 4,
 "nbformat_minor": 5
}
